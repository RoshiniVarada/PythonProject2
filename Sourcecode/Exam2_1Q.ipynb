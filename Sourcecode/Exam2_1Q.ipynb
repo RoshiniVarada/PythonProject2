{
  "nbformat": 4,
  "nbformat_minor": 0,
  "metadata": {
    "colab": {
      "name": "Exam2_modified_1Q.ipynb",
      "provenance": []
    },
    "kernelspec": {
      "name": "python3",
      "display_name": "Python 3"
    },
    "accelerator": "TPU"
  },
  "cells": [
    {
      "cell_type": "code",
      "metadata": {
        "id": "vJ2vogLD76rF",
        "colab_type": "code",
        "colab": {
          "base_uri": "https://localhost:8080/",
          "height": 34
        },
        "outputId": "b0ff7c9c-7697-4128-ea7c-974d593fe798"
      },
      "source": [
        "import pandas as pd # data processing, CSV file I/O (e.g. pd.read_csv)\n",
        "from keras.preprocessing.text import Tokenizer\n",
        "from keras.preprocessing.sequence import pad_sequences\n",
        "from keras.models import Sequential\n",
        "from keras.layers import Dense, Embedding, LSTM, SpatialDropout1D, Dropout, Conv1D, GlobalMaxPooling1D\n",
        "from matplotlib import pyplot\n",
        "from sklearn.model_selection import train_test_split\n",
        "from keras.utils.np_utils import to_categorical\n",
        "import re\n",
        "from sklearn.preprocessing import LabelEncoder\n",
        "from keras.callbacks import TensorBoard\n",
        "from time import time\n",
        "tensorboard=TensorBoard(log_dir=\"log/{}\".format(time()))"
      ],
      "execution_count": null,
      "outputs": [
        {
          "output_type": "stream",
          "text": [
            "Using TensorFlow backend.\n"
          ],
          "name": "stderr"
        }
      ]
    },
    {
      "cell_type": "code",
      "metadata": {
        "id": "ZGU3PyCjBtnG",
        "colab_type": "code",
        "colab": {
          "base_uri": "https://localhost:8080/",
          "height": 238
        },
        "outputId": "e3fc1aec-1880-4f4c-be37-c4febc1b0a83"
      },
      "source": [
        "train_data= pd.read_csv(\"train.tsv\", sep=\"\\t\")\n",
        "print(train_data.shape)\n",
        "train_data.head\n",
        "test_data = pd.read_csv(\"test.tsv\", sep=\"\\t\")\n",
        "print(train_data.shape)\n",
        "train_data.head(5)"
      ],
      "execution_count": null,
      "outputs": [
        {
          "output_type": "stream",
          "text": [
            "(156060, 4)\n",
            "(156060, 4)\n"
          ],
          "name": "stdout"
        },
        {
          "output_type": "execute_result",
          "data": {
            "text/html": [
              "<div>\n",
              "<style scoped>\n",
              "    .dataframe tbody tr th:only-of-type {\n",
              "        vertical-align: middle;\n",
              "    }\n",
              "\n",
              "    .dataframe tbody tr th {\n",
              "        vertical-align: top;\n",
              "    }\n",
              "\n",
              "    .dataframe thead th {\n",
              "        text-align: right;\n",
              "    }\n",
              "</style>\n",
              "<table border=\"1\" class=\"dataframe\">\n",
              "  <thead>\n",
              "    <tr style=\"text-align: right;\">\n",
              "      <th></th>\n",
              "      <th>PhraseId</th>\n",
              "      <th>SentenceId</th>\n",
              "      <th>Phrase</th>\n",
              "      <th>Sentiment</th>\n",
              "    </tr>\n",
              "  </thead>\n",
              "  <tbody>\n",
              "    <tr>\n",
              "      <th>0</th>\n",
              "      <td>1</td>\n",
              "      <td>1</td>\n",
              "      <td>A series of escapades demonstrating the adage ...</td>\n",
              "      <td>1</td>\n",
              "    </tr>\n",
              "    <tr>\n",
              "      <th>1</th>\n",
              "      <td>2</td>\n",
              "      <td>1</td>\n",
              "      <td>A series of escapades demonstrating the adage ...</td>\n",
              "      <td>2</td>\n",
              "    </tr>\n",
              "    <tr>\n",
              "      <th>2</th>\n",
              "      <td>3</td>\n",
              "      <td>1</td>\n",
              "      <td>A series</td>\n",
              "      <td>2</td>\n",
              "    </tr>\n",
              "    <tr>\n",
              "      <th>3</th>\n",
              "      <td>4</td>\n",
              "      <td>1</td>\n",
              "      <td>A</td>\n",
              "      <td>2</td>\n",
              "    </tr>\n",
              "    <tr>\n",
              "      <th>4</th>\n",
              "      <td>5</td>\n",
              "      <td>1</td>\n",
              "      <td>series</td>\n",
              "      <td>2</td>\n",
              "    </tr>\n",
              "  </tbody>\n",
              "</table>\n",
              "</div>"
            ],
            "text/plain": [
              "   PhraseId  ...  Sentiment\n",
              "0         1  ...          1\n",
              "1         2  ...          2\n",
              "2         3  ...          2\n",
              "3         4  ...          2\n",
              "4         5  ...          2\n",
              "\n",
              "[5 rows x 4 columns]"
            ]
          },
          "metadata": {
            "tags": []
          },
          "execution_count": 6
        }
      ]
    },
    {
      "cell_type": "code",
      "metadata": {
        "id": "W3HkdLa1CRZ3",
        "colab_type": "code",
        "colab": {}
      },
      "source": [
        "train_data = train_data.drop(columns=['PhraseId', 'SentenceId'])\n",
        "test_data = test_data.drop(columns=['PhraseId', 'SentenceId'])"
      ],
      "execution_count": null,
      "outputs": []
    },
    {
      "cell_type": "code",
      "metadata": {
        "id": "byzKzyALlc_2",
        "colab_type": "code",
        "colab": {}
      },
      "source": [
        "label=train_data[['Sentiment']]"
      ],
      "execution_count": null,
      "outputs": []
    },
    {
      "cell_type": "code",
      "metadata": {
        "id": "D-b3mhf2ld8W",
        "colab_type": "code",
        "colab": {}
      },
      "source": [
        "train_data=train_data.drop(columns=['Sentiment'])"
      ],
      "execution_count": null,
      "outputs": []
    },
    {
      "cell_type": "code",
      "metadata": {
        "id": "7PXicwjrCR_5",
        "colab_type": "code",
        "colab": {}
      },
      "source": [
        "train_data['Phrase'] = train_data['Phrase'].apply(lambda x: re.sub('[^a-zA-z0-9\\s]', '', x.lower()))\n",
        "test_data['Phrase'] = test_data['Phrase'].apply(lambda x: re.sub('[^a-zA-z0-9\\s]', '', x.lower()))"
      ],
      "execution_count": null,
      "outputs": []
    },
    {
      "cell_type": "code",
      "metadata": {
        "id": "KQSUHASQCUGM",
        "colab_type": "code",
        "colab": {}
      },
      "source": [
        "max_fatures =5000\n",
        "tokenizer = Tokenizer(num_words=max_fatures, split=' ')\n",
        "tokenizer.fit_on_texts(train_data['Phrase'].values)\n",
        "X_train = tokenizer.texts_to_sequences(train_data['Phrase'].values)\n",
        "X_train = pad_sequences(X_train)"
      ],
      "execution_count": null,
      "outputs": []
    },
    {
      "cell_type": "code",
      "metadata": {
        "id": "Z56ME5mvCWZi",
        "colab_type": "code",
        "colab": {}
      },
      "source": [
        "max_fatures = 2000\n",
        "tokenizer = Tokenizer(num_words=max_fatures, split=' ')\n",
        "tokenizer.fit_on_texts(test_data['Phrase'].values)\n",
        "X_test = tokenizer.texts_to_sequences(test_data['Phrase'].values)\n",
        "X_test = pad_sequences(X_test)"
      ],
      "execution_count": null,
      "outputs": []
    },
    {
      "cell_type": "code",
      "metadata": {
        "id": "IzbQllUtmA55",
        "colab_type": "code",
        "colab": {
          "base_uri": "https://localhost:8080/",
          "height": 34
        },
        "outputId": "f3be9f47-d5b6-4c68-e6ea-441b00bbefcd"
      },
      "source": [
        "X_train.shape"
      ],
      "execution_count": null,
      "outputs": [
        {
          "output_type": "execute_result",
          "data": {
            "text/plain": [
              "(156060, 46)"
            ]
          },
          "metadata": {
            "tags": []
          },
          "execution_count": 13
        }
      ]
    },
    {
      "cell_type": "code",
      "metadata": {
        "id": "duyiCV2ZmEfO",
        "colab_type": "code",
        "colab": {
          "base_uri": "https://localhost:8080/",
          "height": 34
        },
        "outputId": "96c82ad1-0f86-4695-dc74-7aa9430bc406"
      },
      "source": [
        "X_test.shape"
      ],
      "execution_count": null,
      "outputs": [
        {
          "output_type": "execute_result",
          "data": {
            "text/plain": [
              "(66292, 46)"
            ]
          },
          "metadata": {
            "tags": []
          },
          "execution_count": 14
        }
      ]
    },
    {
      "cell_type": "code",
      "metadata": {
        "id": "7GnY9RklCYJ-",
        "colab_type": "code",
        "colab": {
          "base_uri": "https://localhost:8080/",
          "height": 105
        },
        "outputId": "be7fdcc2-4064-4b00-97ab-d471dbfc6f03"
      },
      "source": [
        "label_encoder = LabelEncoder()\n",
        "integer_encoded = label_encoder.fit_transform(label)\n",
        "Y_train = to_categorical(integer_encoded)\n",
        "X_tr, X_te, Y_tr, Y_te = train_test_split(X_train, Y_train, test_size=0.25, random_state=30)\n",
        "print(X_tr.shape,Y_tr.shape)\n",
        "print(X_te.shape,Y_te.shape)"
      ],
      "execution_count": null,
      "outputs": [
        {
          "output_type": "stream",
          "text": [
            "(117045, 46) (117045, 5)\n",
            "(39015, 46) (39015, 5)\n"
          ],
          "name": "stdout"
        },
        {
          "output_type": "stream",
          "text": [
            "/usr/local/lib/python3.6/dist-packages/sklearn/preprocessing/_label.py:251: DataConversionWarning: A column-vector y was passed when a 1d array was expected. Please change the shape of y to (n_samples, ), for example using ravel().\n",
            "  y = column_or_1d(y, warn=True)\n"
          ],
          "name": "stderr"
        }
      ]
    },
    {
      "cell_type": "code",
      "metadata": {
        "id": "vrkFOO3OCaNB",
        "colab_type": "code",
        "colab": {}
      },
      "source": [
        "num_classes = Y_train.shape[1]\n",
        "max_words= X_train.shape[1]\n",
        "model= Sequential()\n",
        "model.add(Embedding(5000,100,input_length=max_words))\n",
        "model.add(Dropout(0.2))\n",
        "model.add(Conv1D(64,kernel_size=3,padding='same',activation='relu',strides=1))\n",
        "model.add(GlobalMaxPooling1D())\n",
        "model.add(Dense(128,activation='relu'))\n",
        "model.add(Dropout(0.2))\n",
        "model.add(Dense(num_classes,activation='softmax'))\n",
        "model.compile(loss='categorical_crossentropy',optimizer='adam',metrics=['accuracy'])"
      ],
      "execution_count": null,
      "outputs": []
    },
    {
      "cell_type": "code",
      "metadata": {
        "id": "FSVuqXpiER-0",
        "colab_type": "code",
        "colab": {
          "base_uri": "https://localhost:8080/",
          "height": 258
        },
        "outputId": "24a4fba9-d8ed-417e-c05f-db9cff15e8c0"
      },
      "source": [
        "history=model.fit(X_tr, Y_tr, validation_data=(X_te, Y_te),epochs=5, batch_size=512, verbose=1, callbacks=[tensorboard])"
      ],
      "execution_count": null,
      "outputs": [
        {
          "output_type": "stream",
          "text": [
            "/usr/local/lib/python3.6/dist-packages/tensorflow/python/framework/indexed_slices.py:434: UserWarning: Converting sparse IndexedSlices to a dense Tensor of unknown shape. This may consume a large amount of memory.\n",
            "  \"Converting sparse IndexedSlices to a dense Tensor of unknown shape. \"\n"
          ],
          "name": "stderr"
        },
        {
          "output_type": "stream",
          "text": [
            "Train on 117045 samples, validate on 39015 samples\n",
            "Epoch 1/5\n",
            "117045/117045 [==============================] - 30s 258us/step - loss: 1.1544 - accuracy: 0.5523 - val_loss: 0.9635 - val_accuracy: 0.6153\n",
            "Epoch 2/5\n",
            "117045/117045 [==============================] - 30s 255us/step - loss: 0.9142 - accuracy: 0.6376 - val_loss: 0.9087 - val_accuracy: 0.6343\n",
            "Epoch 3/5\n",
            "117045/117045 [==============================] - 30s 255us/step - loss: 0.8516 - accuracy: 0.6610 - val_loss: 0.8757 - val_accuracy: 0.6460\n",
            "Epoch 4/5\n",
            "117045/117045 [==============================] - 30s 256us/step - loss: 0.8038 - accuracy: 0.6797 - val_loss: 0.8622 - val_accuracy: 0.6522\n",
            "Epoch 5/5\n",
            "117045/117045 [==============================] - 30s 254us/step - loss: 0.7678 - accuracy: 0.6943 - val_loss: 0.8601 - val_accuracy: 0.6537\n"
          ],
          "name": "stdout"
        }
      ]
    },
    {
      "cell_type": "code",
      "metadata": {
        "id": "aR091yT9qRR4",
        "colab_type": "code",
        "colab": {
          "base_uri": "https://localhost:8080/",
          "height": 312
        },
        "outputId": "f9f07ce5-ac7e-48f1-dbd1-f6da9bd8e6e2"
      },
      "source": [
        "import matplotlib.pyplot as plt\n",
        "plt.figure()\n",
        "plt.plot(history.history[\"val_loss\"], label=\"validation loss\")\n",
        "plt.plot(history.history[\"val_accuracy\"], label=\"validation accuracy\")\n",
        "plt.plot(history.history[\"loss\"], label=\"training Loss\")\n",
        "plt.plot(history.history[\"accuracy\"], label=\"training accuracy\")\n",
        "plt.title(\"the loss and accuracy for both training data and validation data\")\n",
        "plt.xlabel(\"Epoch 5\")\n",
        "plt.ylabel(\"Loss/Accuracy\")\n",
        "plt.legend(loc=\"best\")"
      ],
      "execution_count": null,
      "outputs": [
        {
          "output_type": "execute_result",
          "data": {
            "text/plain": [
              "<matplotlib.legend.Legend at 0x7fa912096630>"
            ]
          },
          "metadata": {
            "tags": []
          },
          "execution_count": 26
        },
        {
          "output_type": "display_data",
          "data": {
            "image/png": "[encoded data removed]",
            "text/plain": [
              "<Figure size 432x288 with 1 Axes>"
            ]
          },
          "metadata": {
            "tags": [],
            "needs_background": "light"
          }
        }
      ]
    },
    {
      "cell_type": "code",
      "metadata": {
        "id": "ui01C_5jnZxN",
        "colab_type": "code",
        "colab": {
          "base_uri": "https://localhost:8080/",
          "height": 34
        },
        "outputId": "20f4ce9d-ae04-47c3-c628-78b963a141d5"
      },
      "source": [
        "model.predict_classes(X_te[:1])"
      ],
      "execution_count": null,
      "outputs": [
        {
          "output_type": "execute_result",
          "data": {
            "text/plain": [
              "array([2])"
            ]
          },
          "metadata": {
            "tags": []
          },
          "execution_count": 27
        }
      ]
    },
    {
      "cell_type": "code",
      "metadata": {
        "id": "__UODK6Mniey",
        "colab_type": "code",
        "colab": {
          "base_uri": "https://localhost:8080/",
          "height": 34
        },
        "outputId": "edcf1195-3f5c-478d-c037-ad9b196e2b11"
      },
      "source": [
        "Y_te[2]"
      ],
      "execution_count": null,
      "outputs": [
        {
          "output_type": "execute_result",
          "data": {
            "text/plain": [
              "array([0., 0., 1., 0., 0.], dtype=float32)"
            ]
          },
          "metadata": {
            "tags": []
          },
          "execution_count": 28
        }
      ]
    },
    {
      "cell_type": "code",
      "metadata": {
        "id": "JtLq8bgwno3C",
        "colab_type": "code",
        "colab": {}
      },
      "source": [
        "y_pred=model.predict_classes(X_test[:1])"
      ],
      "execution_count": null,
      "outputs": []
    },
    {
      "cell_type": "code",
      "metadata": {
        "id": "5JY6Ak7snvb0",
        "colab_type": "code",
        "colab": {
          "base_uri": "https://localhost:8080/",
          "height": 68
        },
        "outputId": "c56d183f-ab4a-4a55-bd5b-cdf0beddae07"
      },
      "source": [
        "sub_file = pd.read_csv('sampleSubmission.csv',sep=',')\n",
        "sub_file.iloc[0]"
      ],
      "execution_count": null,
      "outputs": [
        {
          "output_type": "execute_result",
          "data": {
            "text/plain": [
              "PhraseId     156061\n",
              "Sentiment         2\n",
              "Name: 0, dtype: int64"
            ]
          },
          "metadata": {
            "tags": []
          },
          "execution_count": 31
        }
      ]
    },
    {
      "cell_type": "code",
      "metadata": {
        "id": "WcYqaqIYpQWI",
        "colab_type": "code",
        "colab": {
          "base_uri": "https://localhost:8080/",
          "height": 51
        },
        "outputId": "c4554e48-b395-4739-cf15-d33551674838"
      },
      "source": [
        "print(\"PREDICTED LABEL \",y_pred[0])\n",
        "print(\"ACTUAL LABEL  \",sub_file['Sentiment'].iloc[0])"
      ],
      "execution_count": null,
      "outputs": [
        {
          "output_type": "stream",
          "text": [
            "PREDICTED LABEL  2\n",
            "ACTUAL LABEL   2\n"
          ],
          "name": "stdout"
        }
      ]
    },
    {
      "cell_type": "code",
      "metadata": {
        "id": "bLGgsJOVMcPk",
        "colab_type": "code",
        "colab": {}
      },
      "source": [
        "from keras.optimizers import adam\n",
        "s=adam(lr=0.001)\n",
        "model1= Sequential()\n",
        "model1.add(Embedding(5000,100,input_length=max_words))\n",
        "model1.add(Dropout(0.2))\n",
        "model1.add(Conv1D(64,kernel_size=3,padding='same',activation='relu',strides=1))\n",
        "model1.add(GlobalMaxPooling1D())\n",
        "model1.add(Dense(128,activation='relu'))\n",
        "model1.add(Dropout(0.2))\n",
        "model1.add(Dense(num_classes,activation='softmax'))\n",
        "model1.compile(loss='binary_crossentropy',optimizer=s,metrics=['accuracy'])"
      ],
      "execution_count": null,
      "outputs": []
    },
    {
      "cell_type": "code",
      "metadata": {
        "id": "Eq0lX4HAM2Cs",
        "colab_type": "code",
        "colab": {
          "base_uri": "https://localhost:8080/",
          "height": 258
        },
        "outputId": "f778dd95-9ab6-40c1-8a9d-48ebf7c21d69"
      },
      "source": [
        "history1=model1.fit(X_tr, Y_tr, validation_data=(X_te, Y_te),epochs=5, batch_size=51, verbose=1, callbacks=[tensorboard])"
      ],
      "execution_count": null,
      "outputs": [
        {
          "output_type": "stream",
          "text": [
            "/usr/local/lib/python3.6/dist-packages/tensorflow/python/framework/indexed_slices.py:434: UserWarning: Converting sparse IndexedSlices to a dense Tensor of unknown shape. This may consume a large amount of memory.\n",
            "  \"Converting sparse IndexedSlices to a dense Tensor of unknown shape. \"\n"
          ],
          "name": "stderr"
        },
        {
          "output_type": "stream",
          "text": [
            "Train on 117045 samples, validate on 39015 samples\n",
            "Epoch 1/5\n",
            "117045/117045 [==============================] - 53s 457us/step - loss: 0.3443 - accuracy: 0.8483 - val_loss: 0.3145 - val_accuracy: 0.8581\n",
            "Epoch 2/5\n",
            "117045/117045 [==============================] - 54s 462us/step - loss: 0.3013 - accuracy: 0.8659 - val_loss: 0.3051 - val_accuracy: 0.8629\n",
            "Epoch 3/5\n",
            "117045/117045 [==============================] - 53s 457us/step - loss: 0.2843 - accuracy: 0.8744 - val_loss: 0.3033 - val_accuracy: 0.8631\n",
            "Epoch 4/5\n",
            "117045/117045 [==============================] - 54s 458us/step - loss: 0.2726 - accuracy: 0.8795 - val_loss: 0.3029 - val_accuracy: 0.8646\n",
            "Epoch 5/5\n",
            "117045/117045 [==============================] - 53s 457us/step - loss: 0.2632 - accuracy: 0.8847 - val_loss: 0.3050 - val_accuracy: 0.8639\n"
          ],
          "name": "stdout"
        }
      ]
    },
    {
      "cell_type": "code",
      "metadata": {
        "id": "Idg-lrA_qbC4",
        "colab_type": "code",
        "colab": {
          "base_uri": "https://localhost:8080/",
          "height": 312
        },
        "outputId": "35cefa5e-135f-4fdf-fda3-1df7c9f0043b"
      },
      "source": [
        "import matplotlib.pyplot as plt\n",
        "plt.figure()\n",
        "plt.plot(history1.history[\"val_loss\"], label=\"validation loss\")\n",
        "plt.plot(history1.history[\"val_accuracy\"], label=\"validation accuracy\")\n",
        "plt.plot(history1.history[\"loss\"], label=\"training Loss\")\n",
        "plt.plot(history1.history[\"accuracy\"], label=\"training accuracy\")\n",
        "plt.title(\"the loss and accuracy for both training data and validation data\")\n",
        "plt.xlabel(\"Epoch 5\")\n",
        "plt.ylabel(\"Loss/Accuracy\")\n",
        "plt.legend(loc=\"best\")"
      ],
      "execution_count": null,
      "outputs": [
        {
          "output_type": "execute_result",
          "data": {
            "text/plain": [
              "<matplotlib.legend.Legend at 0x7fa911b7feb8>"
            ]
          },
          "metadata": {
            "tags": []
          },
          "execution_count": 36
        },
        {
          "output_type": "display_data",
          "data": {
            "image/png": "[encoded data removed]",
            "text/plain": [
              "<Figure size 432x288 with 1 Axes>"
            ]
          },
          "metadata": {
            "tags": [],
            "needs_background": "light"
          }
        }
      ]
    }
  ]
}