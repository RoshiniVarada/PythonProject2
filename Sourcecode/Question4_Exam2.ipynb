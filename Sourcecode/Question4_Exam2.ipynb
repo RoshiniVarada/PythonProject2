{
  "nbformat": 4,
  "nbformat_minor": 0,
  "metadata": {
    "colab": {
      "name": "Question4-Exam2.ipynb",
      "provenance": [],
      "collapsed_sections": [],
      "toc_visible": true
    },
    "kernelspec": {
      "name": "python3",
      "display_name": "Python 3"
    }
  },
  "cells": [
    {
      "cell_type": "code",
      "metadata": {
        "id": "_VMQXsQ8FYXo",
        "colab_type": "code",
        "colab": {}
      },
      "source": [
        "# keras module for building LSTM \n",
        "from keras.preprocessing.sequence import pad_sequences\n",
        "from keras.layers import Embedding, LSTM, Dense\n",
        "from keras.preprocessing.text import Tokenizer\n",
        "from keras.callbacks import EarlyStopping\n",
        "from keras.models import Sequential\n",
        "import keras.utils as ku \n",
        "\n",
        "# set seeds for reproducability\n",
        "import tensorflow as tf\n",
        "\n",
        "from numpy.random import seed\n",
        "tf.random.set_seed(2)\n",
        "seed(1)\n",
        "\n",
        "import pandas as pd\n",
        "import numpy as np\n",
        "import string, os \n",
        "\n",
        "import warnings\n",
        "warnings.filterwarnings(\"ignore\")\n",
        "warnings.simplefilter(action='ignore', category=FutureWarning)"
      ],
      "execution_count": null,
      "outputs": []
    },
    {
      "cell_type": "code",
      "metadata": {
        "id": "D-j0T6r-FkLu",
        "colab_type": "code",
        "colab": {
          "base_uri": "https://localhost:8080/",
          "height": 185
        },
        "outputId": "73a646f1-c027-4af1-d671-f9f3d0956780"
      },
      "source": [
        "all_headlines = []\n",
        "cwd = '/content/drive/My Drive/Colab Notebooks/input/'  # Get the current working directory (cwd)\n",
        "#files = os.listdir(cwd)  # Get all the files in that directory\n",
        "#print(\"Files in %r: %s\" % (cwd, files))\n",
        "\n",
        "for filename in os.listdir(cwd):\n",
        "    if 'Articles' in filename:\n",
        "        article_df = pd.read_csv(cwd + filename)\n",
        "        all_headlines.extend(list(article_df.headline.values))\n",
        "        break\n",
        "         \n",
        "\n",
        "all_headlines[:10]"
      ],
      "execution_count": null,
      "outputs": [
        {
          "output_type": "execute_result",
          "data": {
            "text/plain": [
              "['N.F.L. vs. Politics Has Been Battle All Season Long',\n",
              " 'Voice. Vice. Veracity.',\n",
              " 'A Stand-Up’s Downward Slide',\n",
              " 'New York Today: A Groundhog Has Her Day',\n",
              " 'A Swimmer’s Communion With the Ocean',\n",
              " 'Trail Activity',\n",
              " 'Super Bowl',\n",
              " 'Trump’s Mexican Shakedown',\n",
              " 'Pence’s Presidential Pet',\n",
              " 'Fruit of a Poison Tree']"
            ]
          },
          "metadata": {
            "tags": []
          },
          "execution_count": 31
        }
      ]
    },
    {
      "cell_type": "code",
      "metadata": {
        "id": "6oedGL2GWJkd",
        "colab_type": "code",
        "colab": {
          "base_uri": "https://localhost:8080/",
          "height": 185
        },
        "outputId": "021713ec-9a4f-4e98-a016-3d6fa55202ba"
      },
      "source": [
        "#Dataset preparation\n",
        "#Dataset cleaning\n",
        "#In dataset preparation step, we will first perform text cleaning of the data which includes removal of punctuations and lower casing all the words.\n",
        "\n",
        "def clean_text(txt):\n",
        "    txt = \"\".join(v for v in txt if v not in string.punctuation).lower()\n",
        "    txt = txt.encode(\"utf8\").decode(\"ascii\",'ignore')\n",
        "    return txt \n",
        "\n",
        "corpus = [clean_text(x) for x in all_headlines]\n",
        "corpus[:10]"
      ],
      "execution_count": null,
      "outputs": [
        {
          "output_type": "execute_result",
          "data": {
            "text/plain": [
              "['nfl vs politics has been battle all season long',\n",
              " 'voice vice veracity',\n",
              " 'a standups downward slide',\n",
              " 'new york today a groundhog has her day',\n",
              " 'a swimmers communion with the ocean',\n",
              " 'trail activity',\n",
              " 'super bowl',\n",
              " 'trumps mexican shakedown',\n",
              " 'pences presidential pet',\n",
              " 'fruit of a poison tree']"
            ]
          },
          "metadata": {
            "tags": []
          },
          "execution_count": 32
        }
      ]
    },
    {
      "cell_type": "code",
      "metadata": {
        "id": "kZafwXSNWoIe",
        "colab_type": "code",
        "colab": {
          "base_uri": "https://localhost:8080/",
          "height": 185
        },
        "outputId": "51a40d32-b5e1-468c-a5c9-f3347777e8eb"
      },
      "source": [
        "#Generating Sequence of N-gram Tokens\n",
        "tokenizer = Tokenizer()\n",
        "\n",
        "def get_sequence_of_tokens(corpus):\n",
        "    ## tokenization\n",
        "    tokenizer.fit_on_texts(corpus)\n",
        "    total_words = len(tokenizer.word_index) + 1\n",
        "    \n",
        "    ## convert data to sequence of tokens \n",
        "    input_sequences = []\n",
        "    for line in corpus:\n",
        "        token_list = tokenizer.texts_to_sequences([line])[0]\n",
        "        for i in range(1, len(token_list)):\n",
        "            n_gram_sequence = token_list[:i+1]\n",
        "            input_sequences.append(n_gram_sequence)\n",
        "    return input_sequences, total_words\n",
        "inp_sequences, total_words = get_sequence_of_tokens(corpus)\n",
        "inp_sequences[:10]"
      ],
      "execution_count": null,
      "outputs": [
        {
          "output_type": "execute_result",
          "data": {
            "text/plain": [
              "[[661, 118],\n",
              " [661, 118, 73],\n",
              " [661, 118, 73, 74],\n",
              " [661, 118, 73, 74, 662],\n",
              " [661, 118, 73, 74, 662, 663],\n",
              " [661, 118, 73, 74, 662, 663, 64],\n",
              " [661, 118, 73, 74, 662, 663, 64, 30],\n",
              " [661, 118, 73, 74, 662, 663, 64, 30, 211],\n",
              " [212, 664],\n",
              " [212, 664, 665]]"
            ]
          },
          "metadata": {
            "tags": []
          },
          "execution_count": 33
        }
      ]
    },
    {
      "cell_type": "code",
      "metadata": {
        "id": "6eP7EuxYVxFm",
        "colab_type": "code",
        "colab": {}
      },
      "source": [
        "#Padding the Sequences and obtain Variables : Predictors and Target\n",
        "def generate_padded_sequences(input_sequences):\n",
        "    max_sequence_len = max([len(x) for x in input_sequences])\n",
        "    input_sequences = np.array(pad_sequences(input_sequences, maxlen=max_sequence_len, padding='pre'))\n",
        "    \n",
        "    predictors, label = input_sequences[:,:-1],input_sequences[:,-1]\n",
        "    label = ku.to_categorical(label, num_classes=total_words)\n",
        "    return predictors, label, max_sequence_len\n",
        "\n",
        "predictors, label, max_sequence_len = generate_padded_sequences(inp_sequences)"
      ],
      "execution_count": null,
      "outputs": []
    },
    {
      "cell_type": "code",
      "metadata": {
        "id": "ie2bmvWDW0-C",
        "colab_type": "code",
        "colab": {
          "base_uri": "https://localhost:8080/",
          "height": 252
        },
        "outputId": "656e2b6e-c235-43f4-cd12-91a5a56f6e6b"
      },
      "source": [
        "#LSTMs for Text Generation\n",
        "def create_model(max_sequence_len, total_words):\n",
        "    input_len = max_sequence_len - 1\n",
        "    model = Sequential()\n",
        "    \n",
        "    # Add Input Embedding Layer\n",
        "    model.add(Embedding(total_words, 10, input_length=input_len))\n",
        "    \n",
        "    # Add Hidden Layer 1 - LSTM Layer\n",
        "    model.add(LSTM(100))\n",
        "    \n",
        "    # Add Output Layer\n",
        "    model.add(Dense(total_words, activation='softmax'))\n",
        "\n",
        "    model.compile(loss='categorical_crossentropy', optimizer='adam')\n",
        "    \n",
        "    return model\n",
        "\n",
        "model = create_model(max_sequence_len, total_words)\n",
        "model.summary()\n"
      ],
      "execution_count": null,
      "outputs": [
        {
          "output_type": "stream",
          "text": [
            "Model: \"sequential_2\"\n",
            "_________________________________________________________________\n",
            "Layer (type)                 Output Shape              Param #   \n",
            "=================================================================\n",
            "embedding_2 (Embedding)      (None, 16, 10)            22890     \n",
            "_________________________________________________________________\n",
            "lstm_2 (LSTM)                (None, 100)               44400     \n",
            "_________________________________________________________________\n",
            "dense_2 (Dense)              (None, 2289)              231189    \n",
            "=================================================================\n",
            "Total params: 298,479\n",
            "Trainable params: 298,479\n",
            "Non-trainable params: 0\n",
            "_________________________________________________________________\n"
          ],
          "name": "stdout"
        }
      ]
    },
    {
      "cell_type": "code",
      "metadata": {
        "id": "AwV_tVhyW7lQ",
        "colab_type": "code",
        "colab": {
          "base_uri": "https://localhost:8080/",
          "height": 1000
        },
        "outputId": "5b7b89cb-2cd8-44ba-dcfe-7e56a613be35"
      },
      "source": [
        "#Lets train our model now\n",
        "model.fit(predictors, label, epochs=100, verbose=2)"
      ],
      "execution_count": null,
      "outputs": [
        {
          "output_type": "stream",
          "text": [
            "Epoch 1/100\n",
            " - 3s - loss: 7.3612\n",
            "Epoch 2/100\n",
            " - 3s - loss: 6.8417\n",
            "Epoch 3/100\n",
            " - 3s - loss: 6.7173\n",
            "Epoch 4/100\n",
            " - 3s - loss: 6.6330\n",
            "Epoch 5/100\n",
            " - 3s - loss: 6.5459\n",
            "Epoch 6/100\n",
            " - 3s - loss: 6.4481\n",
            "Epoch 7/100\n",
            " - 3s - loss: 6.3421\n",
            "Epoch 8/100\n",
            " - 3s - loss: 6.2283\n",
            "Epoch 9/100\n",
            " - 3s - loss: 6.1202\n",
            "Epoch 10/100\n",
            " - 3s - loss: 6.0134\n",
            "Epoch 11/100\n",
            " - 3s - loss: 5.9201\n",
            "Epoch 12/100\n",
            " - 3s - loss: 5.8292\n",
            "Epoch 13/100\n",
            " - 3s - loss: 5.7401\n",
            "Epoch 14/100\n",
            " - 3s - loss: 5.6484\n",
            "Epoch 15/100\n",
            " - 3s - loss: 5.5573\n",
            "Epoch 16/100\n",
            " - 3s - loss: 5.4686\n",
            "Epoch 17/100\n",
            " - 3s - loss: 5.3758\n",
            "Epoch 18/100\n",
            " - 3s - loss: 5.2838\n",
            "Epoch 19/100\n",
            " - 3s - loss: 5.1927\n",
            "Epoch 20/100\n",
            " - 3s - loss: 5.1008\n",
            "Epoch 21/100\n",
            " - 3s - loss: 5.0120\n",
            "Epoch 22/100\n",
            " - 3s - loss: 4.9253\n",
            "Epoch 23/100\n",
            " - 3s - loss: 4.8371\n",
            "Epoch 24/100\n",
            " - 3s - loss: 4.7550\n",
            "Epoch 25/100\n",
            " - 3s - loss: 4.6685\n",
            "Epoch 26/100\n",
            " - 3s - loss: 4.5841\n",
            "Epoch 27/100\n",
            " - 3s - loss: 4.5037\n",
            "Epoch 28/100\n",
            " - 3s - loss: 4.4201\n",
            "Epoch 29/100\n",
            " - 3s - loss: 4.3401\n",
            "Epoch 30/100\n",
            " - 3s - loss: 4.2575\n",
            "Epoch 31/100\n",
            " - 3s - loss: 4.1800\n",
            "Epoch 32/100\n",
            " - 3s - loss: 4.1037\n",
            "Epoch 33/100\n",
            " - 3s - loss: 4.0280\n",
            "Epoch 34/100\n",
            " - 3s - loss: 3.9533\n",
            "Epoch 35/100\n",
            " - 3s - loss: 3.8794\n",
            "Epoch 36/100\n",
            " - 3s - loss: 3.8085\n",
            "Epoch 37/100\n",
            " - 3s - loss: 3.7410\n",
            "Epoch 38/100\n",
            " - 3s - loss: 3.6702\n",
            "Epoch 39/100\n",
            " - 3s - loss: 3.6050\n",
            "Epoch 40/100\n",
            " - 3s - loss: 3.5410\n",
            "Epoch 41/100\n",
            " - 3s - loss: 3.4784\n",
            "Epoch 42/100\n",
            " - 3s - loss: 3.4173\n",
            "Epoch 43/100\n",
            " - 3s - loss: 3.3575\n",
            "Epoch 44/100\n",
            " - 3s - loss: 3.2979\n",
            "Epoch 45/100\n",
            " - 3s - loss: 3.2432\n",
            "Epoch 46/100\n",
            " - 3s - loss: 3.1883\n",
            "Epoch 47/100\n",
            " - 3s - loss: 3.1332\n",
            "Epoch 48/100\n",
            " - 3s - loss: 3.0814\n",
            "Epoch 49/100\n",
            " - 3s - loss: 3.0319\n",
            "Epoch 50/100\n",
            " - 3s - loss: 2.9811\n",
            "Epoch 51/100\n",
            " - 3s - loss: 2.9305\n",
            "Epoch 52/100\n",
            " - 3s - loss: 2.8861\n",
            "Epoch 53/100\n",
            " - 3s - loss: 2.8405\n",
            "Epoch 54/100\n",
            " - 3s - loss: 2.7977\n",
            "Epoch 55/100\n",
            " - 3s - loss: 2.7577\n",
            "Epoch 56/100\n",
            " - 3s - loss: 2.7174\n",
            "Epoch 57/100\n",
            " - 3s - loss: 2.6728\n",
            "Epoch 58/100\n",
            " - 3s - loss: 2.6334\n",
            "Epoch 59/100\n",
            " - 3s - loss: 2.5925\n",
            "Epoch 60/100\n",
            " - 3s - loss: 2.5544\n",
            "Epoch 61/100\n",
            " - 3s - loss: 2.5171\n",
            "Epoch 62/100\n",
            " - 3s - loss: 2.4814\n",
            "Epoch 63/100\n",
            " - 3s - loss: 2.4451\n",
            "Epoch 64/100\n",
            " - 3s - loss: 2.4110\n",
            "Epoch 65/100\n",
            " - 3s - loss: 2.3752\n",
            "Epoch 66/100\n",
            " - 3s - loss: 2.3451\n",
            "Epoch 67/100\n",
            " - 3s - loss: 2.3114\n",
            "Epoch 68/100\n",
            " - 3s - loss: 2.2795\n",
            "Epoch 69/100\n",
            " - 3s - loss: 2.2477\n",
            "Epoch 70/100\n",
            " - 3s - loss: 2.2198\n",
            "Epoch 71/100\n",
            " - 3s - loss: 2.1877\n",
            "Epoch 72/100\n",
            " - 3s - loss: 2.1579\n",
            "Epoch 73/100\n",
            " - 3s - loss: 2.1311\n",
            "Epoch 74/100\n",
            " - 3s - loss: 2.0999\n",
            "Epoch 75/100\n",
            " - 3s - loss: 2.0711\n",
            "Epoch 76/100\n",
            " - 3s - loss: 2.0453\n",
            "Epoch 77/100\n",
            " - 3s - loss: 2.0202\n",
            "Epoch 78/100\n",
            " - 3s - loss: 1.9928\n",
            "Epoch 79/100\n",
            " - 3s - loss: 1.9660\n",
            "Epoch 80/100\n",
            " - 3s - loss: 1.9420\n",
            "Epoch 81/100\n",
            " - 3s - loss: 1.9149\n",
            "Epoch 82/100\n",
            " - 3s - loss: 1.8884\n",
            "Epoch 83/100\n",
            " - 3s - loss: 1.8651\n",
            "Epoch 84/100\n",
            " - 3s - loss: 1.8405\n",
            "Epoch 85/100\n",
            " - 3s - loss: 1.8158\n",
            "Epoch 86/100\n",
            " - 3s - loss: 1.7942\n",
            "Epoch 87/100\n",
            " - 3s - loss: 1.7670\n",
            "Epoch 88/100\n",
            " - 3s - loss: 1.7443\n",
            "Epoch 89/100\n",
            " - 3s - loss: 1.7221\n",
            "Epoch 90/100\n",
            " - 3s - loss: 1.6980\n",
            "Epoch 91/100\n",
            " - 3s - loss: 1.6776\n",
            "Epoch 92/100\n",
            " - 3s - loss: 1.6584\n",
            "Epoch 93/100\n",
            " - 3s - loss: 1.6317\n",
            "Epoch 94/100\n",
            " - 3s - loss: 1.6120\n",
            "Epoch 95/100\n",
            " - 3s - loss: 1.5899\n",
            "Epoch 96/100\n",
            " - 3s - loss: 1.5686\n",
            "Epoch 97/100\n",
            " - 3s - loss: 1.5477\n",
            "Epoch 98/100\n",
            " - 3s - loss: 1.5281\n",
            "Epoch 99/100\n",
            " - 3s - loss: 1.5069\n",
            "Epoch 100/100\n",
            " - 3s - loss: 1.4891\n"
          ],
          "name": "stdout"
        },
        {
          "output_type": "execute_result",
          "data": {
            "text/plain": [
              "<keras.callbacks.callbacks.History at 0x7f4b780534e0>"
            ]
          },
          "metadata": {
            "tags": []
          },
          "execution_count": 36
        }
      ]
    },
    {
      "cell_type": "code",
      "metadata": {
        "id": "W7MRMdTAXCjX",
        "colab_type": "code",
        "colab": {}
      },
      "source": [
        "#Generating the text\n",
        "def generate_text(seed_text, next_words, model, max_sequence_len):\n",
        "    for _ in range(next_words):\n",
        "        token_list = tokenizer.texts_to_sequences([seed_text])[0]\n",
        "        token_list = pad_sequences([token_list], maxlen=max_sequence_len-1, padding='pre')\n",
        "        predicted = model.predict_classes(token_list, verbose=0)\n",
        "        \n",
        "        output_word = \"\"\n",
        "        for word,index in tokenizer.word_index.items():\n",
        "            if index == predicted:\n",
        "                output_word = word\n",
        "                break\n",
        "        seed_text += \" \"+output_word\n",
        "    return seed_text.title()"
      ],
      "execution_count": null,
      "outputs": []
    },
    {
      "cell_type": "code",
      "metadata": {
        "id": "fVDfwDYsXDhp",
        "colab_type": "code",
        "colab": {
          "base_uri": "https://localhost:8080/",
          "height": 67
        },
        "outputId": "ccdf01ef-f12d-49ab-9a6e-78ba0829f987"
      },
      "source": [
        "print (generate_text(\"super bowl\", 20, model, max_sequence_len))\n",
        "print (generate_text(\"trail\", 20, model, max_sequence_len))\n",
        "print (generate_text(\"trumps \", 20, model, max_sequence_len))"
      ],
      "execution_count": null,
      "outputs": [
        {
          "output_type": "stream",
          "text": [
            "Super Bowl Is Very Concerned Out A New Tax Leaves To Investors Odd Man Of Freely First First Help From The Common\n",
            "Trail Disclosure Wall Street Zen And Investors Tower Bridge Rick Scorn Off Side Of Shrugs Kind College How Much Does It\n",
            "Trumps  Acrostic Rivals Wear Robes Flexibility Its I Times Are The Hell Half Premiere Door Areas Off Liberal Of Kennedy Them\n"
          ],
          "name": "stdout"
        }
      ]
    }
  ]
}